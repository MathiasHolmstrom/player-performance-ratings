{
 "cells": [
  {
   "cell_type": "markdown",
   "id": "436d68a5-e3c1-4d46-8426-d40a01161b24",
   "metadata": {},
   "source": [
    "This notebook contains a step-by-step guide on predicting nba game-winner using player-ratings.\n",
    "\n",
    "We will be using 'PlayerRatingGenerator' along iwth other tools developed within the spforge package. PlayerRatingGenerator is at it's most simplest core comparable to an Elo-rating-model - but where ratings follow individual players. \n",
    "Below are some examples of additional functionality it supports:\n",
    "\n",
    "* Ratings can change faster when player has played very few recent matches.\n",
    "* Ratings can change faster when player switches team\n",
    "* Ratings do not update purely on win/loss. Rather any metric or a combination of metrics with separate weights can be used.\n",
    "* The initial rating a player receives can be relative to the rating of his team or as a quantile of the distribution of ratings within the league he is participating within (or a combination)\n",
    "* In sports with multiple leagues, the user can specifify initial priors on how strong the various leagues are relative to each other.\n",
    "* The strenght of the leagues can also develop dynamically in which case the rating-generator will update these automatically when players from different leagues play against each other.\n",
    "* Supports partial participation in a match. \n",
    "\n"
   ]
  },
  {
   "cell_type": "code",
   "execution_count": 1,
   "id": "ff2a470c-7b07-4b9b-9196-ea05772dbca8",
   "metadata": {},
   "outputs": [
    {
     "data": {
      "text/html": [
       "<div>\n",
       "<style scoped>\n",
       "    .dataframe tbody tr th:only-of-type {\n",
       "        vertical-align: middle;\n",
       "    }\n",
       "\n",
       "    .dataframe tbody tr th {\n",
       "        vertical-align: top;\n",
       "    }\n",
       "\n",
       "    .dataframe thead th {\n",
       "        text-align: right;\n",
       "    }\n",
       "</style>\n",
       "<table border=\"1\" class=\"dataframe\">\n",
       "  <thead>\n",
       "    <tr style=\"text-align: right;\">\n",
       "      <th></th>\n",
       "      <th>team_id</th>\n",
       "      <th>start_date</th>\n",
       "      <th>game_id</th>\n",
       "      <th>player_id</th>\n",
       "      <th>player_name</th>\n",
       "      <th>start_position</th>\n",
       "      <th>team_id_opponent</th>\n",
       "      <th>points</th>\n",
       "      <th>game_minutes</th>\n",
       "      <th>minutes</th>\n",
       "      <th>won</th>\n",
       "      <th>plus_minus</th>\n",
       "      <th>location</th>\n",
       "      <th>score</th>\n",
       "      <th>score_opponent</th>\n",
       "    </tr>\n",
       "  </thead>\n",
       "  <tbody>\n",
       "    <tr>\n",
       "      <th>38956</th>\n",
       "      <td>1610612755</td>\n",
       "      <td>2022-10-18</td>\n",
       "      <td>0022200001</td>\n",
       "      <td>202699</td>\n",
       "      <td>Tobias Harris</td>\n",
       "      <td>F</td>\n",
       "      <td>1610612738</td>\n",
       "      <td>18.0</td>\n",
       "      <td>48.0</td>\n",
       "      <td>34.233</td>\n",
       "      <td>0</td>\n",
       "      <td>-1.0</td>\n",
       "      <td>away</td>\n",
       "      <td>117</td>\n",
       "      <td>126</td>\n",
       "    </tr>\n",
       "    <tr>\n",
       "      <th>38957</th>\n",
       "      <td>1610612755</td>\n",
       "      <td>2022-10-18</td>\n",
       "      <td>0022200001</td>\n",
       "      <td>200782</td>\n",
       "      <td>P.J. Tucker</td>\n",
       "      <td>F</td>\n",
       "      <td>1610612738</td>\n",
       "      <td>6.0</td>\n",
       "      <td>48.0</td>\n",
       "      <td>33.017</td>\n",
       "      <td>0</td>\n",
       "      <td>-6.0</td>\n",
       "      <td>away</td>\n",
       "      <td>117</td>\n",
       "      <td>126</td>\n",
       "    </tr>\n",
       "    <tr>\n",
       "      <th>38958</th>\n",
       "      <td>1610612755</td>\n",
       "      <td>2022-10-18</td>\n",
       "      <td>0022200001</td>\n",
       "      <td>203954</td>\n",
       "      <td>Joel Embiid</td>\n",
       "      <td>C</td>\n",
       "      <td>1610612738</td>\n",
       "      <td>26.0</td>\n",
       "      <td>48.0</td>\n",
       "      <td>37.267</td>\n",
       "      <td>0</td>\n",
       "      <td>-13.0</td>\n",
       "      <td>away</td>\n",
       "      <td>117</td>\n",
       "      <td>126</td>\n",
       "    </tr>\n",
       "    <tr>\n",
       "      <th>38959</th>\n",
       "      <td>1610612755</td>\n",
       "      <td>2022-10-18</td>\n",
       "      <td>0022200001</td>\n",
       "      <td>1630178</td>\n",
       "      <td>Tyrese Maxey</td>\n",
       "      <td>G</td>\n",
       "      <td>1610612738</td>\n",
       "      <td>21.0</td>\n",
       "      <td>48.0</td>\n",
       "      <td>38.200</td>\n",
       "      <td>0</td>\n",
       "      <td>-6.0</td>\n",
       "      <td>away</td>\n",
       "      <td>117</td>\n",
       "      <td>126</td>\n",
       "    </tr>\n",
       "    <tr>\n",
       "      <th>38960</th>\n",
       "      <td>1610612755</td>\n",
       "      <td>2022-10-18</td>\n",
       "      <td>0022200001</td>\n",
       "      <td>201935</td>\n",
       "      <td>James Harden</td>\n",
       "      <td>G</td>\n",
       "      <td>1610612738</td>\n",
       "      <td>35.0</td>\n",
       "      <td>48.0</td>\n",
       "      <td>37.267</td>\n",
       "      <td>0</td>\n",
       "      <td>1.0</td>\n",
       "      <td>away</td>\n",
       "      <td>117</td>\n",
       "      <td>126</td>\n",
       "    </tr>\n",
       "  </tbody>\n",
       "</table>\n",
       "</div>"
      ],
      "text/plain": [
       "          team_id  start_date     game_id  player_id    player_name  \\\n",
       "38956  1610612755  2022-10-18  0022200001     202699  Tobias Harris   \n",
       "38957  1610612755  2022-10-18  0022200001     200782    P.J. Tucker   \n",
       "38958  1610612755  2022-10-18  0022200001     203954    Joel Embiid   \n",
       "38959  1610612755  2022-10-18  0022200001    1630178   Tyrese Maxey   \n",
       "38960  1610612755  2022-10-18  0022200001     201935   James Harden   \n",
       "\n",
       "      start_position  team_id_opponent  points  game_minutes  minutes  won  \\\n",
       "38956              F        1610612738    18.0          48.0   34.233    0   \n",
       "38957              F        1610612738     6.0          48.0   33.017    0   \n",
       "38958              C        1610612738    26.0          48.0   37.267    0   \n",
       "38959              G        1610612738    21.0          48.0   38.200    0   \n",
       "38960              G        1610612738    35.0          48.0   37.267    0   \n",
       "\n",
       "       plus_minus location  score  score_opponent  \n",
       "38956        -1.0     away    117             126  \n",
       "38957        -6.0     away    117             126  \n",
       "38958       -13.0     away    117             126  \n",
       "38959        -6.0     away    117             126  \n",
       "38960         1.0     away    117             126  "
      ]
     },
     "execution_count": 1,
     "metadata": {},
     "output_type": "execute_result"
    }
   ],
   "source": [
    "import pandas as pd\n",
    "df = pd.read_parquet(\"data/game_player_subsample.parquet\")\n",
    "df.head()"
   ]
  },
  {
   "cell_type": "markdown",
   "id": "c2ffd18a-daef-401e-b747-46d6b4c81773",
   "metadata": {},
   "source": [
    "To start by, we implement a simple rating-model which only uses the result of the match to update wins losses"
   ]
  },
  {
   "cell_type": "code",
   "execution_count": 2,
   "id": "d3ad1a02-3b29-4572-8738-8d0c94de08cf",
   "metadata": {},
   "outputs": [
    {
     "data": {
      "text/html": [
       "<div>\n",
       "<style scoped>\n",
       "    .dataframe tbody tr th:only-of-type {\n",
       "        vertical-align: middle;\n",
       "    }\n",
       "\n",
       "    .dataframe tbody tr th {\n",
       "        vertical-align: top;\n",
       "    }\n",
       "\n",
       "    .dataframe thead th {\n",
       "        text-align: right;\n",
       "    }\n",
       "</style>\n",
       "<table border=\"1\" class=\"dataframe\">\n",
       "  <thead>\n",
       "    <tr style=\"text-align: right;\">\n",
       "      <th></th>\n",
       "      <th>game_id</th>\n",
       "      <th>team_id</th>\n",
       "      <th>team_id_opponent</th>\n",
       "      <th>player_name</th>\n",
       "      <th>rating_difference_projected_won</th>\n",
       "    </tr>\n",
       "  </thead>\n",
       "  <tbody>\n",
       "    <tr>\n",
       "      <th>19867</th>\n",
       "      <td>0022200777</td>\n",
       "      <td>1610612756</td>\n",
       "      <td>1610612737</td>\n",
       "      <td>Deandre Ayton</td>\n",
       "      <td>30.531276</td>\n",
       "    </tr>\n",
       "    <tr>\n",
       "      <th>19868</th>\n",
       "      <td>0022200777</td>\n",
       "      <td>1610612756</td>\n",
       "      <td>1610612737</td>\n",
       "      <td>Jock Landale</td>\n",
       "      <td>30.531276</td>\n",
       "    </tr>\n",
       "    <tr>\n",
       "      <th>19869</th>\n",
       "      <td>0022200777</td>\n",
       "      <td>1610612756</td>\n",
       "      <td>1610612737</td>\n",
       "      <td>Cameron Johnson</td>\n",
       "      <td>30.531276</td>\n",
       "    </tr>\n",
       "    <tr>\n",
       "      <th>19870</th>\n",
       "      <td>0022200777</td>\n",
       "      <td>1610612756</td>\n",
       "      <td>1610612737</td>\n",
       "      <td>Saben Lee</td>\n",
       "      <td>30.531276</td>\n",
       "    </tr>\n",
       "    <tr>\n",
       "      <th>19871</th>\n",
       "      <td>0022200777</td>\n",
       "      <td>1610612756</td>\n",
       "      <td>1610612737</td>\n",
       "      <td>Ish Wainright</td>\n",
       "      <td>30.531276</td>\n",
       "    </tr>\n",
       "  </tbody>\n",
       "</table>\n",
       "</div>"
      ],
      "text/plain": [
       "          game_id     team_id  team_id_opponent      player_name  \\\n",
       "19867  0022200777  1610612756        1610612737    Deandre Ayton   \n",
       "19868  0022200777  1610612756        1610612737     Jock Landale   \n",
       "19869  0022200777  1610612756        1610612737  Cameron Johnson   \n",
       "19870  0022200777  1610612756        1610612737        Saben Lee   \n",
       "19871  0022200777  1610612756        1610612737    Ish Wainright   \n",
       "\n",
       "       rating_difference_projected_won  \n",
       "19867                        30.531276  \n",
       "19868                        30.531276  \n",
       "19869                        30.531276  \n",
       "19870                        30.531276  \n",
       "19871                        30.531276  "
      ]
     },
     "execution_count": 2,
     "metadata": {},
     "output_type": "execute_result"
    }
   ],
   "source": [
    "from spforge import ColumnNames\n",
    "from spforge.ratings import PlayerRatingGenerator\n",
    "column_names = ColumnNames(\n",
    "    team_id=\"team_id\",\n",
    "    match_id=\"game_id\",\n",
    "    start_date=\"start_date\",\n",
    "    player_id=\"player_id\"    \n",
    ")\n",
    "rating_generator = PlayerRatingGenerator(\n",
    "    performance_column=\"won\",\n",
    "    column_names=column_names,\n",
    "    suffix='_won'\n",
    ")\n",
    "df = rating_generator.transform_historical(df)\n",
    "df[['game_id','team_id', 'team_id_opponent', 'player_name',*rating_generator.features_out]].tail()\n"
   ]
  },
  {
   "cell_type": "markdown",
   "id": "4bb008af-464b-4d2f-a3c1-60e304114eba",
   "metadata": {},
   "source": [
    "Below we are doing a quick sanity check to ensure that the team with a positive rating_difference wins over 50% of the time."
   ]
  },
  {
   "cell_type": "code",
   "execution_count": 3,
   "id": "637abe61-ddf4-4173-a451-20819da3203e",
   "metadata": {},
   "outputs": [
    {
     "data": {
      "text/plain": [
       "np.float64(0.5637775960752248)"
      ]
     },
     "execution_count": 3,
     "metadata": {},
     "output_type": "execute_result"
    }
   ],
   "source": [
    "df[df['rating_difference_projected_won']>0]['won'].mean()"
   ]
  },
  {
   "cell_type": "markdown",
   "id": "d31a8919-db09-43d1-8ca9-44964017fd42",
   "metadata": {},
   "source": [
    "Because the ratings are player-based and updates after each match, we can look up the most up-to-date ratings of selected players."
   ]
  },
  {
   "cell_type": "code",
   "execution_count": 4,
   "id": "2c1493a7-8d60-49e4-b168-cae32cccb80d",
   "metadata": {},
   "outputs": [
    {
     "data": {
      "text/plain": [
       "PlayerRating(id=201939, rating_value=963.0461009203528, name=None, games_played=36.0, last_match_day_number=19389, confidence_sum=29.64, prev_rating_changes=None, most_recent_team_id=1610612744)"
      ]
     },
     "execution_count": 4,
     "metadata": {},
     "output_type": "execute_result"
    }
   ],
   "source": [
    "player_id_stephen_curry = df[df['player_name']=='Stephen Curry']['player_id'].iloc[0]\n",
    "rating_generator.player_ratings[player_id_stephen_curry]"
   ]
  },
  {
   "cell_type": "code",
   "execution_count": 5,
   "id": "a9cf9bea-6523-4308-9ae4-bc6fd116d8a9",
   "metadata": {},
   "outputs": [
    {
     "data": {
      "text/plain": [
       "PlayerRating(id=201942, rating_value=np.float64(930.9363739417606), name=None, games_played=47.0, last_match_day_number=19388, confidence_sum=40.760000000000005, prev_rating_changes=None, most_recent_team_id=1610612741)"
      ]
     },
     "execution_count": 5,
     "metadata": {},
     "output_type": "execute_result"
    }
   ],
   "source": [
    "player_id_demar_derozan= df[df['player_name']=='DeMar DeRozan']['player_id'].iloc[0]\n",
    "rating_generator.player_ratings[player_id_demar_derozan]"
   ]
  },
  {
   "cell_type": "markdown",
   "id": "a57c480c-24fc-4ba3-9c09-fb1391d659f7",
   "metadata": {},
   "source": [
    "To convert the rating-difference to game-winner probability we train and predict with a logistic regression below."
   ]
  },
  {
   "cell_type": "code",
   "execution_count": 6,
   "id": "1befc8f1-c6b9-4ee7-9b53-be7ad5958396",
   "metadata": {},
   "outputs": [
    {
     "data": {
      "text/html": [
       "<div>\n",
       "<style scoped>\n",
       "    .dataframe tbody tr th:only-of-type {\n",
       "        vertical-align: middle;\n",
       "    }\n",
       "\n",
       "    .dataframe tbody tr th {\n",
       "        vertical-align: top;\n",
       "    }\n",
       "\n",
       "    .dataframe thead th {\n",
       "        text-align: right;\n",
       "    }\n",
       "</style>\n",
       "<table border=\"1\" class=\"dataframe\">\n",
       "  <thead>\n",
       "    <tr style=\"text-align: right;\">\n",
       "      <th></th>\n",
       "      <th>game_id</th>\n",
       "      <th>team_id</th>\n",
       "      <th>won</th>\n",
       "      <th>rating_difference_projected_won</th>\n",
       "      <th>game_winner_probability</th>\n",
       "    </tr>\n",
       "  </thead>\n",
       "  <tbody>\n",
       "    <tr>\n",
       "      <th>1547</th>\n",
       "      <td>0022200775</td>\n",
       "      <td>1610612759</td>\n",
       "      <td>0</td>\n",
       "      <td>-245.685180</td>\n",
       "      <td>0.341606</td>\n",
       "    </tr>\n",
       "    <tr>\n",
       "      <th>1548</th>\n",
       "      <td>0022200776</td>\n",
       "      <td>1610612761</td>\n",
       "      <td>0</td>\n",
       "      <td>-27.022404</td>\n",
       "      <td>0.481966</td>\n",
       "    </tr>\n",
       "    <tr>\n",
       "      <th>1549</th>\n",
       "      <td>0022200776</td>\n",
       "      <td>1610612762</td>\n",
       "      <td>1</td>\n",
       "      <td>27.022404</td>\n",
       "      <td>0.518034</td>\n",
       "    </tr>\n",
       "    <tr>\n",
       "      <th>1550</th>\n",
       "      <td>0022200777</td>\n",
       "      <td>1610612737</td>\n",
       "      <td>1</td>\n",
       "      <td>-30.531276</td>\n",
       "      <td>0.479626</td>\n",
       "    </tr>\n",
       "    <tr>\n",
       "      <th>1551</th>\n",
       "      <td>0022200777</td>\n",
       "      <td>1610612756</td>\n",
       "      <td>0</td>\n",
       "      <td>30.531276</td>\n",
       "      <td>0.520374</td>\n",
       "    </tr>\n",
       "  </tbody>\n",
       "</table>\n",
       "</div>"
      ],
      "text/plain": [
       "         game_id     team_id  won  rating_difference_projected_won  \\\n",
       "1547  0022200775  1610612759    0                      -245.685180   \n",
       "1548  0022200776  1610612761    0                       -27.022404   \n",
       "1549  0022200776  1610612762    1                        27.022404   \n",
       "1550  0022200777  1610612737    1                       -30.531276   \n",
       "1551  0022200777  1610612756    0                        30.531276   \n",
       "\n",
       "      game_winner_probability  \n",
       "1547                 0.341606  \n",
       "1548                 0.481966  \n",
       "1549                 0.518034  \n",
       "1550                 0.479626  \n",
       "1551                 0.520374  "
      ]
     },
     "execution_count": 6,
     "metadata": {},
     "output_type": "execute_result"
    }
   ],
   "source": [
    "from sklearn.linear_model import LogisticRegression\n",
    "#Aggregates to game-team level (since ratings were initially on game-player level)\n",
    "game_team_grouped = df.groupby(['game_id', 'team_id', 'won'])['rating_difference_projected_won'].mean().reset_index()\n",
    "game_winner_model_logistic = LogisticRegression()\n",
    "game_winner_model_logistic.fit(game_team_grouped[['rating_difference_projected_won']], game_team_grouped['won'])\n",
    "game_team_grouped['game_winner_probability'] = game_winner_model_logistic.predict_proba(game_team_grouped[['rating_difference_projected_won']])[:,1]\n",
    "\n",
    "game_team_grouped.tail()\n"
   ]
  },
  {
   "cell_type": "markdown",
   "id": "0f0106cd-e0fe-41da-81b0-0e77722172df",
   "metadata": {},
   "source": [
    "The sharp reader may have noted that we didn't split into train and predict dataset above. While it's always considered a good practice, it's not nearly as essential for simpler models like Linear and Logistic Regression which doesn't overfit. However, regardless we will implement a proper cross-validation approach later in the notebook. For now we skip it to make the code a little simpler.\n",
    "\n",
    "Below the log-loss is calculated. A log-loss of 0.682 is probably not very good. Simply guessing 0.5 on all matches would yield os 0.693."
   ]
  },
  {
   "cell_type": "code",
   "execution_count": 7,
   "id": "fb7d0027-9f4e-49ca-be27-e110016c9df6",
   "metadata": {},
   "outputs": [
    {
     "data": {
      "text/plain": [
       "0.6816896975588874"
      ]
     },
     "execution_count": 7,
     "metadata": {},
     "output_type": "execute_result"
    }
   ],
   "source": [
    "from sklearn.metrics import log_loss\n",
    "\n",
    "log_loss(game_team_grouped['won'], game_team_grouped['game_winner_probability'])"
   ]
  },
  {
   "cell_type": "markdown",
   "id": "a1565f2d-409e-4b5a-8c3c-6256d6cbbe64",
   "metadata": {},
   "source": [
    "Rather than using the result of the match to update a players rating by. What about using a metric that is a better indication of his performance? The plus_minus value is quite good for that as the value will increase if the team is outscoring the opponent while the player is on the court."
   ]
  },
  {
   "cell_type": "code",
   "execution_count": 8,
   "id": "bd1f28cb-57d7-4b31-a173-a9dafe22a18a",
   "metadata": {},
   "outputs": [
    {
     "data": {
      "text/html": [
       "<div>\n",
       "<style scoped>\n",
       "    .dataframe tbody tr th:only-of-type {\n",
       "        vertical-align: middle;\n",
       "    }\n",
       "\n",
       "    .dataframe tbody tr th {\n",
       "        vertical-align: top;\n",
       "    }\n",
       "\n",
       "    .dataframe thead th {\n",
       "        text-align: right;\n",
       "    }\n",
       "</style>\n",
       "<table border=\"1\" class=\"dataframe\">\n",
       "  <thead>\n",
       "    <tr style=\"text-align: right;\">\n",
       "      <th></th>\n",
       "      <th>game_id</th>\n",
       "      <th>team_id</th>\n",
       "      <th>team_id_opponent</th>\n",
       "      <th>player_name</th>\n",
       "      <th>rating_difference_projected_plus_minus</th>\n",
       "      <th>player_rating_plus_minus</th>\n",
       "      <th>team_rating_projected_plus_minus</th>\n",
       "      <th>opponent_rating_projected_plus_minus</th>\n",
       "    </tr>\n",
       "  </thead>\n",
       "  <tbody>\n",
       "    <tr>\n",
       "      <th>19867</th>\n",
       "      <td>0022200777</td>\n",
       "      <td>1610612756</td>\n",
       "      <td>1610612737</td>\n",
       "      <td>Deandre Ayton</td>\n",
       "      <td>7.897116</td>\n",
       "      <td>935.505193</td>\n",
       "      <td>987.367968</td>\n",
       "      <td>979.470852</td>\n",
       "    </tr>\n",
       "    <tr>\n",
       "      <th>19868</th>\n",
       "      <td>0022200777</td>\n",
       "      <td>1610612756</td>\n",
       "      <td>1610612737</td>\n",
       "      <td>Jock Landale</td>\n",
       "      <td>7.897116</td>\n",
       "      <td>1003.395322</td>\n",
       "      <td>987.367968</td>\n",
       "      <td>979.470852</td>\n",
       "    </tr>\n",
       "    <tr>\n",
       "      <th>19869</th>\n",
       "      <td>0022200777</td>\n",
       "      <td>1610612756</td>\n",
       "      <td>1610612737</td>\n",
       "      <td>Cameron Johnson</td>\n",
       "      <td>7.897116</td>\n",
       "      <td>1047.664310</td>\n",
       "      <td>987.367968</td>\n",
       "      <td>979.470852</td>\n",
       "    </tr>\n",
       "    <tr>\n",
       "      <th>19870</th>\n",
       "      <td>0022200777</td>\n",
       "      <td>1610612756</td>\n",
       "      <td>1610612737</td>\n",
       "      <td>Saben Lee</td>\n",
       "      <td>7.897116</td>\n",
       "      <td>975.376976</td>\n",
       "      <td>987.367968</td>\n",
       "      <td>979.470852</td>\n",
       "    </tr>\n",
       "    <tr>\n",
       "      <th>19871</th>\n",
       "      <td>0022200777</td>\n",
       "      <td>1610612756</td>\n",
       "      <td>1610612737</td>\n",
       "      <td>Ish Wainright</td>\n",
       "      <td>7.897116</td>\n",
       "      <td>997.361881</td>\n",
       "      <td>987.367968</td>\n",
       "      <td>979.470852</td>\n",
       "    </tr>\n",
       "  </tbody>\n",
       "</table>\n",
       "</div>"
      ],
      "text/plain": [
       "          game_id     team_id  team_id_opponent      player_name  \\\n",
       "19867  0022200777  1610612756        1610612737    Deandre Ayton   \n",
       "19868  0022200777  1610612756        1610612737     Jock Landale   \n",
       "19869  0022200777  1610612756        1610612737  Cameron Johnson   \n",
       "19870  0022200777  1610612756        1610612737        Saben Lee   \n",
       "19871  0022200777  1610612756        1610612737    Ish Wainright   \n",
       "\n",
       "       rating_difference_projected_plus_minus  player_rating_plus_minus  \\\n",
       "19867                                7.897116                935.505193   \n",
       "19868                                7.897116               1003.395322   \n",
       "19869                                7.897116               1047.664310   \n",
       "19870                                7.897116                975.376976   \n",
       "19871                                7.897116                997.361881   \n",
       "\n",
       "       team_rating_projected_plus_minus  opponent_rating_projected_plus_minus  \n",
       "19867                        987.367968                            979.470852  \n",
       "19868                        987.367968                            979.470852  \n",
       "19869                        987.367968                            979.470852  \n",
       "19870                        987.367968                            979.470852  \n",
       "19871                        987.367968                            979.470852  "
      ]
     },
     "execution_count": 8,
     "metadata": {},
     "output_type": "execute_result"
    }
   ],
   "source": [
    "from spforge.ratings import RatingKnownFeatures\n",
    "\n",
    "column_names = ColumnNames(\n",
    "    team_id=\"team_id\",\n",
    "    match_id=\"game_id\",\n",
    "    start_date=\"start_date\",\n",
    "    player_id=\"player_id\",\n",
    ")\n",
    "rating_generator_plus_minus = PlayerRatingGenerator(\n",
    "    performance_column=\"plus_minus\",\n",
    "    non_predictor_known_features_out=[RatingKnownFeatures.PLAYER_RATING, RatingKnownFeatures.TEAM_RATING_PROJECTED,\n",
    "                  RatingKnownFeatures.OPPONENT_RATING_PROJECTED], # This returns additional information - though we don't have to use it for the final predictio nmodel\n",
    "    auto_scale_performance=True, # Scales the performance-columns into values between 0 and 1 and ensures a more symmetric distribution\n",
    "    column_names=column_names,\n",
    "    suffix='_plus_minus'\n",
    ")\n",
    "\n",
    "\n",
    "df = rating_generator_plus_minus.fit_transform(df)\n",
    "df[['game_id', 'team_id', 'team_id_opponent', 'player_name', *rating_generator_plus_minus.all_rating_features_out]].tail()\n",
    "\n"
   ]
  },
  {
   "cell_type": "markdown",
   "id": "bc439f96-0da7-4bda-84bc-4e4b74d18cc6",
   "metadata": {},
   "source": [
    "In the player_rating_plus_minus column above we can see that each player has quite different player_ratings.\n",
    "Below we see that Stephen Curry's rating is higher reflecting a shift toward evaluating his individual performance."
   ]
  },
  {
   "cell_type": "code",
   "execution_count": 9,
   "id": "008dc752-46b9-49ff-9fa5-0fd769e956eb",
   "metadata": {},
   "outputs": [
    {
     "data": {
      "text/plain": [
       "PlayerRating(id=201939, rating_value=1039.7642964639754, name=None, games_played=36.0, last_match_day_number=19389, confidence_sum=29.64, prev_rating_changes=None, most_recent_team_id=1610612744)"
      ]
     },
     "execution_count": 9,
     "metadata": {},
     "output_type": "execute_result"
    }
   ],
   "source": [
    "rating_generator_plus_minus.player_ratings[player_id_stephen_curry]"
   ]
  },
  {
   "cell_type": "code",
   "execution_count": 10,
   "id": "8cf1d6c4-3f86-492f-9b61-83fa5472e5ce",
   "metadata": {},
   "outputs": [
    {
     "data": {
      "text/plain": [
       "0.6772364249872951"
      ]
     },
     "execution_count": 10,
     "metadata": {},
     "output_type": "execute_result"
    }
   ],
   "source": [
    "game_team_grouped_plus_minus = df.groupby(['game_id', 'team_id', 'won'])['rating_difference_projected_plus_minus'].mean().reset_index()\n",
    "\n",
    "game_winner_model_plus_minus_logistic = LogisticRegression()\n",
    "game_winner_model_plus_minus_logistic.fit(game_team_grouped_plus_minus[['rating_difference_projected_plus_minus']], game_team_grouped_plus_minus['won'])\n",
    "game_team_grouped_plus_minus['game_winner_probability'] = game_winner_model_plus_minus_logistic.predict_proba(game_team_grouped_plus_minus[['rating_difference_projected_plus_minus']])[:,1]\n",
    "\n",
    "log_loss(game_team_grouped_plus_minus['won'], game_team_grouped_plus_minus['game_winner_probability'])"
   ]
  },
  {
   "cell_type": "markdown",
   "id": "ca55f4d2-0e3e-4936-8909-103e045ab0a3",
   "metadata": {},
   "source": [
    "The log-loss improved as a consequence. Although we can probably do better.\n",
    "One issue with how we are generating predictions is that we are taking the mean of all ratings from each player within a team per game.\n",
    "However, in reality players play a different amount of minutes.\n",
    "\n",
    "To address this we can calculate the 'participation_weight' (ratio of minutes played compared to game-length) and update our Column Names with the new column. When we regenrate the ratings, the ream_ratings will automatically weight players with a higher participation_weight.\n"
   ]
  },
  {
   "cell_type": "code",
   "execution_count": 11,
   "id": "44de6bb2-8636-467f-a6fb-1be147aa24c5",
   "metadata": {},
   "outputs": [
    {
     "data": {
      "text/html": [
       "<div>\n",
       "<style scoped>\n",
       "    .dataframe tbody tr th:only-of-type {\n",
       "        vertical-align: middle;\n",
       "    }\n",
       "\n",
       "    .dataframe tbody tr th {\n",
       "        vertical-align: top;\n",
       "    }\n",
       "\n",
       "    .dataframe thead th {\n",
       "        text-align: right;\n",
       "    }\n",
       "</style>\n",
       "<table border=\"1\" class=\"dataframe\">\n",
       "  <thead>\n",
       "    <tr style=\"text-align: right;\">\n",
       "      <th></th>\n",
       "      <th>game_id</th>\n",
       "      <th>team_id</th>\n",
       "      <th>team_id_opponent</th>\n",
       "      <th>player_name</th>\n",
       "      <th>rating_difference_projected_plus_minus_pw</th>\n",
       "      <th>player_rating_plus_minus_pw</th>\n",
       "      <th>team_rating_projected_plus_minus_pw</th>\n",
       "      <th>opponent_rating_projected_plus_minus_pw</th>\n",
       "    </tr>\n",
       "  </thead>\n",
       "  <tbody>\n",
       "    <tr>\n",
       "      <th>19867</th>\n",
       "      <td>0022200777</td>\n",
       "      <td>1610612756</td>\n",
       "      <td>1610612737</td>\n",
       "      <td>Deandre Ayton</td>\n",
       "      <td>4.770942</td>\n",
       "      <td>954.335626</td>\n",
       "      <td>1004.674826</td>\n",
       "      <td>999.903884</td>\n",
       "    </tr>\n",
       "    <tr>\n",
       "      <th>19868</th>\n",
       "      <td>0022200777</td>\n",
       "      <td>1610612756</td>\n",
       "      <td>1610612737</td>\n",
       "      <td>Jock Landale</td>\n",
       "      <td>4.770942</td>\n",
       "      <td>1024.134460</td>\n",
       "      <td>1004.674826</td>\n",
       "      <td>999.903884</td>\n",
       "    </tr>\n",
       "    <tr>\n",
       "      <th>19869</th>\n",
       "      <td>0022200777</td>\n",
       "      <td>1610612756</td>\n",
       "      <td>1610612737</td>\n",
       "      <td>Cameron Johnson</td>\n",
       "      <td>4.770942</td>\n",
       "      <td>1050.337149</td>\n",
       "      <td>1004.674826</td>\n",
       "      <td>999.903884</td>\n",
       "    </tr>\n",
       "    <tr>\n",
       "      <th>19870</th>\n",
       "      <td>0022200777</td>\n",
       "      <td>1610612756</td>\n",
       "      <td>1610612737</td>\n",
       "      <td>Saben Lee</td>\n",
       "      <td>4.770942</td>\n",
       "      <td>990.649055</td>\n",
       "      <td>1004.674826</td>\n",
       "      <td>999.903884</td>\n",
       "    </tr>\n",
       "    <tr>\n",
       "      <th>19871</th>\n",
       "      <td>0022200777</td>\n",
       "      <td>1610612756</td>\n",
       "      <td>1610612737</td>\n",
       "      <td>Ish Wainright</td>\n",
       "      <td>4.770942</td>\n",
       "      <td>1027.842110</td>\n",
       "      <td>1004.674826</td>\n",
       "      <td>999.903884</td>\n",
       "    </tr>\n",
       "  </tbody>\n",
       "</table>\n",
       "</div>"
      ],
      "text/plain": [
       "          game_id     team_id  team_id_opponent      player_name  \\\n",
       "19867  0022200777  1610612756        1610612737    Deandre Ayton   \n",
       "19868  0022200777  1610612756        1610612737     Jock Landale   \n",
       "19869  0022200777  1610612756        1610612737  Cameron Johnson   \n",
       "19870  0022200777  1610612756        1610612737        Saben Lee   \n",
       "19871  0022200777  1610612756        1610612737    Ish Wainright   \n",
       "\n",
       "       rating_difference_projected_plus_minus_pw  player_rating_plus_minus_pw  \\\n",
       "19867                                   4.770942                   954.335626   \n",
       "19868                                   4.770942                  1024.134460   \n",
       "19869                                   4.770942                  1050.337149   \n",
       "19870                                   4.770942                   990.649055   \n",
       "19871                                   4.770942                  1027.842110   \n",
       "\n",
       "       team_rating_projected_plus_minus_pw  \\\n",
       "19867                          1004.674826   \n",
       "19868                          1004.674826   \n",
       "19869                          1004.674826   \n",
       "19870                          1004.674826   \n",
       "19871                          1004.674826   \n",
       "\n",
       "       opponent_rating_projected_plus_minus_pw  \n",
       "19867                               999.903884  \n",
       "19868                               999.903884  \n",
       "19869                               999.903884  \n",
       "19870                               999.903884  \n",
       "19871                               999.903884  "
      ]
     },
     "execution_count": 11,
     "metadata": {},
     "output_type": "execute_result"
    }
   ],
   "source": [
    "df['participation_weight'] = df['minutes']/df['game_minutes'].mean()\n",
    "\n",
    "column_names_participation_weight = ColumnNames(\n",
    "    team_id=\"team_id\",\n",
    "    match_id=\"game_id\",\n",
    "    start_date=\"start_date\",\n",
    "    player_id=\"player_id\",\n",
    "    participation_weight='participation_weight'\n",
    ")\n",
    "\n",
    "rating_generator_plus_minus_participation_weight = PlayerRatingGenerator(\n",
    "    performance_column=\"plus_minus\",\n",
    "    non_predictor_known_features_out=[RatingKnownFeatures.PLAYER_RATING, RatingKnownFeatures.TEAM_RATING_PROJECTED,\n",
    "                  RatingKnownFeatures.OPPONENT_RATING_PROJECTED],\n",
    "    auto_scale_performance=True,\n",
    "    column_names=column_names_participation_weight,\n",
    "    suffix='_plus_minus_pw'\n",
    ")\n",
    "\n",
    "df = rating_generator_plus_minus_participation_weight.fit_transform(df)\n",
    "df[['game_id', 'team_id', 'team_id_opponent', 'player_name', *rating_generator_plus_minus_participation_weight.all_rating_features_out]].tail()\n"
   ]
  },
  {
   "cell_type": "code",
   "execution_count": 12,
   "id": "8604a13c-0e73-493c-a3a4-63f7155180f2",
   "metadata": {},
   "outputs": [
    {
     "data": {
      "text/plain": [
       "0.6719891316272427"
      ]
     },
     "execution_count": 12,
     "metadata": {},
     "output_type": "execute_result"
    }
   ],
   "source": [
    "game_team_grouped_plus_minus_projected = df.groupby(['game_id', 'team_id', 'won'])['rating_difference_projected_plus_minus_pw'].mean().reset_index()\n",
    "\n",
    "model_plus_minus_projected = LogisticRegression()\n",
    "model_plus_minus_projected.fit(game_team_grouped_plus_minus_projected[['rating_difference_projected_plus_minus_pw']], game_team_grouped_plus_minus_projected['won'])\n",
    "game_team_grouped_plus_minus_projected['game_winner_probability'] = model_plus_minus_projected.predict_proba(game_team_grouped_plus_minus_projected[['rating_difference_projected_plus_minus_pw']])[:,1]\n",
    "\n",
    "log_loss(game_team_grouped_plus_minus_projected['won'], game_team_grouped_plus_minus_projected['game_winner_probability'])"
   ]
  },
  {
   "cell_type": "markdown",
   "id": "5bc2366b-4872-49fb-a430-c9378d6dff3b",
   "metadata": {},
   "source": [
    "This result in a further improvement. \n",
    "\n",
    "We could also add additional features to our prediction-model, the home-away feature 'location' column is an obvious candidate. We would, however, need to one-hot-encode the feature as logistic regression can't work with categorical features directly. \n",
    "\n",
    "To implement this feature we utilise GameTeamPredictor and SklearnPredictor\n",
    "GameTeamPredictor aggregates to to game-team level before calling another predictor.\n",
    "The predictor we use in this example is SklearnPredictor which is simply a wrapper around any Sklearn-type-estimator.\n",
    "The sklearn-estimator used is a Logistic Regression. Thus, the functionality implemented below should be the same as we what did before - except that we added location and one-hot-encoded it.\n",
    "\n",
    "\n"
   ]
  },
  {
   "cell_type": "code",
   "execution_count": 13,
   "id": "926de2a8-0e7d-4cb9-abfc-96cf7b85ffa4",
   "metadata": {},
   "outputs": [
    {
     "data": {
      "text/plain": [
       "0.6529876686916027"
      ]
     },
     "execution_count": 13,
     "metadata": {},
     "output_type": "execute_result"
    }
   ],
   "source": [
    "from spforge.predictor import GameTeamPredictor, SklearnPredictor\n",
    "game_winner_predictor = GameTeamPredictor(\n",
    "    game_id_colum=column_names.match_id,\n",
    "    team_id_column=column_names.team_id,\n",
    "    predictor=SklearnPredictor(\n",
    "        features=[\"location\", 'rating_difference_projected_plus_minus_pw'],\n",
    "        target=\"won\", \n",
    "        estimator=LogisticRegression(),\n",
    "        pred_column = 'game_winner_probability_location'\n",
    "    ),\n",
    "    one_hot_encode_cat_features=True, #one-hot-encodes any categorical features\n",
    ")\n",
    "\n",
    "game_winner_predictor.train(df)\n",
    "df = game_winner_predictor.predict(df)\n",
    "log_loss(df['won'], df[game_winner_predictor.pred_column])\n"
   ]
  },
  {
   "cell_type": "markdown",
   "id": "ae773c40-ccb3-499b-bdaa-0d62f6da2fcb",
   "metadata": {},
   "source": [
    "Adding location led to a quite significant improvement in the log-loss. Could we further improve it? \n",
    "Let's try and add various lagged-features to our model."
   ]
  },
  {
   "cell_type": "code",
   "execution_count": 14,
   "id": "58fc4e2f-b7cf-4def-af5b-f22b0ece0f6f",
   "metadata": {},
   "outputs": [
    {
     "data": {
      "text/plain": [
       "0.6507607347351325"
      ]
     },
     "execution_count": 14,
     "metadata": {},
     "output_type": "execute_result"
    }
   ],
   "source": [
    "from spforge.transformers import LagTransformer\n",
    "lag_player_transformer = LagTransformer(\n",
    "    features=['plus_minus'],\n",
    "    granularity=['player_id'],\n",
    "    lag_length=4 \n",
    ")\n",
    "\n",
    "df['score_difference'] = df['score'] - df['score_opponent']\n",
    "\n",
    "lag_team_transformer = LagTransformer(\n",
    "    features=['score_difference'],\n",
    "    granularity=['team_id'],\n",
    "    lag_length=4 \n",
    ")\n",
    "\n",
    "\n",
    "df = lag_player_transformer.transform_historical(df, column_names=column_names_participation_weight)\n",
    "df = lag_team_transformer.transform_historical(df, column_names=column_names_participation_weight)\n",
    "\n",
    "game_winner_predictor_lags = GameTeamPredictor(\n",
    "    game_id_colum=column_names.match_id,\n",
    "    team_id_column=column_names.team_id,\n",
    "    predictor=SklearnPredictor(\n",
    "        features=[\"location\", 'rating_difference_projected_plus_minus_pw', *lag_player_transformer.features_out, *lag_team_transformer.features_out],\n",
    "        target=\"won\", \n",
    "            impute_missing_values=True,\n",
    "        estimator=LogisticRegression(),\n",
    "        pred_column = 'game_winner_probability_location_lags'\n",
    "    ),\n",
    "    scale_features=True,\n",
    "    one_hot_encode_cat_features=True, #one-hot-encodes any categorical features\n",
    ")\n",
    "\n",
    "game_winner_predictor_lags.train(df)\n",
    "df = game_winner_predictor_lags.predict(df)\n",
    "log_loss(df['won'], df[game_winner_predictor_lags.pred_column])\n"
   ]
  },
  {
   "cell_type": "markdown",
   "id": "25cda1bc-c39c-4fbc-b77c-6de87d751e3a",
   "metadata": {},
   "source": [
    "Logloss improved! Can we then conclude the new lagged features make the model better???\n",
    "\n",
    "No. While we initially began with a very simple model with only rating-difference as the sole feature. When we add more features and evaluate on the same data we train with, log-loss is only gonna improve. Below the coefficients for each feature is displayed. And we see some unintuitive results: The 4th most important feature is lag 4 plus minus and the cofficient is negative. That doesn't make sense"
   ]
  },
  {
   "cell_type": "code",
   "execution_count": 15,
   "id": "6cdba156-ac86-44f5-a1ab-b2b0ce3139dd",
   "metadata": {},
   "outputs": [
    {
     "data": {
      "image/png": "[encoded data removed]",
      "text/plain": [
       "<Figure size 1000x600 with 1 Axes>"
      ]
     },
     "metadata": {},
     "output_type": "display_data"
    }
   ],
   "source": [
    "import matplotlib.pyplot as plt\n",
    "\n",
    "coef_ = game_winner_predictor_lags.predictor.estimator.coef_.tolist()[0]\n",
    "features = game_winner_predictor_lags.predictor.features\n",
    "sorted_pairs = sorted(zip(features, coef_), key=lambda x: abs(x[1]), reverse=True)\n",
    "sorted_features, sorted_coef = zip(*sorted_pairs)\n",
    "\n",
    "plt.figure(figsize=(10, 6))\n",
    "plt.bar(sorted_features, sorted_coef)\n",
    "plt.xlabel(\"Features\")\n",
    "plt.ylabel(\"Coefficient Value\")\n",
    "plt.title(\"Feature Importance (Coefficient Magnitude)\")\n",
    "plt.xticks(rotation=90)\n",
    "plt.tight_layout()\n",
    "plt.show()\n"
   ]
  },
  {
   "cell_type": "markdown",
   "id": "6eda285e-4f48-47d0-8e2a-9752a2630b3a",
   "metadata": {},
   "source": [
    "To properly evaluate a more complex model that may overfit we need to use cross-validation. "
   ]
  },
  {
   "cell_type": "code",
   "execution_count": 16,
   "id": "13811222-6a47-4098-873f-e5098e6c3521",
   "metadata": {},
   "outputs": [
    {
     "name": "stdout",
     "output_type": "stream",
     "text": [
      "logloss score with lags 0.6545440639156233\n",
      "logloss score without lags 0.6548575211108845\n"
     ]
    }
   ],
   "source": [
    "from spforge import Pipeline\n",
    "\n",
    "from spforge.predictor import GameTeamPredictor\n",
    "from spforge.cross_validator import MatchKFoldCrossValidator\n",
    "from spforge.scorer import SklearnScorer\n",
    "\n",
    "from spforge.predictor import GameTeamPredictor, SklearnPredictor\n",
    "\n",
    "cross_validator_with_lags = MatchKFoldCrossValidator(\n",
    "    match_id_column_name='game_id',\n",
    "    date_column_name='start_date',\n",
    "    predictor = game_winner_predictor_lags,\n",
    ")\n",
    "log_loss_scorer_with_lags = SklearnScorer(pred_column=game_winner_predictor_lags.pred_column, scorer_function=log_loss, target='won')\n",
    "df = cross_validator_with_lags.generate_validation_df(df, add_train_prediction=True)\n",
    "print(f\"logloss score with lags {cross_validator_with_lags.cross_validation_score(df, scorer=log_loss_scorer_with_lags)}\")\n",
    "\n",
    "cross_validator_without_lags = MatchKFoldCrossValidator(\n",
    "    match_id_column_name='game_id',\n",
    "    date_column_name='start_date',\n",
    "    predictor = game_winner_predictor,\n",
    ")\n",
    "log_loss_scorer = SklearnScorer(pred_column=game_winner_predictor.pred_column, scorer_function=log_loss, target='won')\n",
    "df = cross_validator_without_lags.generate_validation_df(df, add_train_prediction=True)\n",
    "print(f\"logloss score without lags {cross_validator_without_lags.cross_validation_score(df, scorer=log_loss_scorer )}\")\n",
    "\n"
   ]
  },
  {
   "cell_type": "markdown",
   "id": "c6ae5fef-03df-4c3a-862e-f410bec2009c",
   "metadata": {},
   "source": [
    "The log-loss still shows a small improvement with the lags. Next step could be to calculate whether the difference is statistically significant - but that's beyond the scope of this notebook guide. \n",
    "\n",
    "But let's assume that we decide to keep the new lagged features as part of our \"final model\". Going through all of the steps above may be a little tedious. And thus it is recommended to utilise a Pipeline to handle all of the steps. A benefit of using a pipeline is that it will also ensure that if you use it on future matches the calculations will be performed correctly. "
   ]
  },
  {
   "cell_type": "code",
   "execution_count": 17,
   "id": "9ca12118-8583-45f6-a615-fb112b2ad144",
   "metadata": {},
   "outputs": [
    {
     "name": "stdout",
     "output_type": "stream",
     "text": [
      "logloss score Pipeline 0.654763723585698\n"
     ]
    }
   ],
   "source": [
    "#Reloads everything from scratch to ensure we are not using previously added columns\n",
    "df = pd.read_parquet(\"data/game_player_subsample.parquet\")\n",
    "df['participation_weight'] = df['minutes'] / df['game_minutes'].mean()\n",
    "df['score_difference'] = df['score'] - df['score_opponent']\n",
    "\n",
    "game_winner_pipeline = Pipeline(\n",
    "    lag_transformers=[lag_player_transformer, lag_team_transformer],\n",
    "    rating_generators=rating_generator_plus_minus_participation_weight,\n",
    "    predictor=GameTeamPredictor(\n",
    "        game_id_colum=column_names_participation_weight.match_id,\n",
    "        team_id_column=column_names_participation_weight.team_id,\n",
    "        predictor=SklearnPredictor(\n",
    "            features=['location'], #only feaure we manually specify. Other lag and rating generator features added automatically\n",
    "            target=\"won\",\n",
    "            estimator=LogisticRegression(),\n",
    "        ),\n",
    "        impute_missing_values=True,\n",
    "        one_hot_encode_cat_features=True,  # one-hot-encodes any categorical features\n",
    "    ),\n",
    "    column_names=column_names_participation_weight,\n",
    ")\n",
    "\n",
    "cross_validator = MatchKFoldCrossValidator(\n",
    "    match_id_column_name='game_id',\n",
    "    date_column_name='start_date',\n",
    "    predictor = game_winner_pipeline,\n",
    ")\n",
    "\n",
    "log_loss_scorer = SklearnScorer(pred_column=game_winner_pipeline.pred_column, scorer_function=log_loss, target='won')\n",
    "df = cross_validator.generate_validation_df(df, add_train_prediction=True)\n",
    "print(f\"logloss score Pipeline {cross_validator.cross_validation_score(df, scorer=log_loss_scorer )}\")\n",
    "\n"
   ]
  },
  {
   "cell_type": "markdown",
   "id": "add2d31a-9e08-4310-9bf5-8321257c2957",
   "metadata": {},
   "source": [
    "There is one big problem left with our approach - and it's actually a big one.\n",
    "We have leakage - meaning our prediction model is using information that is first available in the future. \n",
    "When we added participation_weight to our model, it calculated the team-ratings based on the minutes played during the game. But we don't know the amount of minutes a player plays before the match starts. \n",
    "\n",
    "Thus, what actually should be used is \"predicted minutes\" instead of \"actual minutes\" in determining a team's projected rating. \n",
    "\n",
    "To determine 'predicted minutes' we will utilise a simple RollingMean.\n"
   ]
  },
  {
   "cell_type": "code",
   "execution_count": 18,
   "id": "1ab6f13b-b1bf-49cc-98ea-497b610b7689",
   "metadata": {},
   "outputs": [
    {
     "data": {
      "text/html": [
       "<div>\n",
       "<style scoped>\n",
       "    .dataframe tbody tr th:only-of-type {\n",
       "        vertical-align: middle;\n",
       "    }\n",
       "\n",
       "    .dataframe tbody tr th {\n",
       "        vertical-align: top;\n",
       "    }\n",
       "\n",
       "    .dataframe thead th {\n",
       "        text-align: right;\n",
       "    }\n",
       "</style>\n",
       "<table border=\"1\" class=\"dataframe\">\n",
       "  <thead>\n",
       "    <tr style=\"text-align: right;\">\n",
       "      <th></th>\n",
       "      <th>won_prediction</th>\n",
       "      <th>location</th>\n",
       "      <th>team_id_opponent</th>\n",
       "      <th>points</th>\n",
       "      <th>minutes</th>\n",
       "      <th>participation_weight</th>\n",
       "      <th>start_date</th>\n",
       "      <th>game_id</th>\n",
       "      <th>team_id</th>\n",
       "      <th>score</th>\n",
       "      <th>plus_minus</th>\n",
       "      <th>player_id</th>\n",
       "      <th>player_name</th>\n",
       "      <th>score_opponent</th>\n",
       "      <th>rolling_mean_minutes15</th>\n",
       "      <th>won</th>\n",
       "      <th>game_minutes</th>\n",
       "      <th>score_difference</th>\n",
       "      <th>start_position</th>\n",
       "      <th>projected_participation_weight</th>\n",
       "    </tr>\n",
       "  </thead>\n",
       "  <tbody>\n",
       "    <tr>\n",
       "      <th>19867</th>\n",
       "      <td>0.633261</td>\n",
       "      <td>home</td>\n",
       "      <td>1610612737</td>\n",
       "      <td>6.0</td>\n",
       "      <td>21.483</td>\n",
       "      <td>0.444028</td>\n",
       "      <td>2023-02-01</td>\n",
       "      <td>0022200777</td>\n",
       "      <td>1610612756</td>\n",
       "      <td>100</td>\n",
       "      <td>-6.0</td>\n",
       "      <td>1630240</td>\n",
       "      <td>Saben Lee</td>\n",
       "      <td>132</td>\n",
       "      <td>12.187800</td>\n",
       "      <td>0</td>\n",
       "      <td>48.0</td>\n",
       "      <td>-32</td>\n",
       "      <td></td>\n",
       "      <td>0.253913</td>\n",
       "    </tr>\n",
       "    <tr>\n",
       "      <th>19868</th>\n",
       "      <td>0.633261</td>\n",
       "      <td>home</td>\n",
       "      <td>1610612737</td>\n",
       "      <td>2.0</td>\n",
       "      <td>10.000</td>\n",
       "      <td>0.206688</td>\n",
       "      <td>2023-02-01</td>\n",
       "      <td>0022200777</td>\n",
       "      <td>1610612756</td>\n",
       "      <td>100</td>\n",
       "      <td>-9.0</td>\n",
       "      <td>202687</td>\n",
       "      <td>Bismack Biyombo</td>\n",
       "      <td>132</td>\n",
       "      <td>12.548933</td>\n",
       "      <td>0</td>\n",
       "      <td>48.0</td>\n",
       "      <td>-32</td>\n",
       "      <td></td>\n",
       "      <td>0.261436</td>\n",
       "    </tr>\n",
       "    <tr>\n",
       "      <th>19869</th>\n",
       "      <td>0.633261</td>\n",
       "      <td>home</td>\n",
       "      <td>1610612737</td>\n",
       "      <td>2.0</td>\n",
       "      <td>15.367</td>\n",
       "      <td>0.317618</td>\n",
       "      <td>2023-02-01</td>\n",
       "      <td>0022200777</td>\n",
       "      <td>1610612756</td>\n",
       "      <td>100</td>\n",
       "      <td>-10.0</td>\n",
       "      <td>1629006</td>\n",
       "      <td>Josh Okogie</td>\n",
       "      <td>132</td>\n",
       "      <td>14.513333</td>\n",
       "      <td>0</td>\n",
       "      <td>48.0</td>\n",
       "      <td>-32</td>\n",
       "      <td></td>\n",
       "      <td>0.302361</td>\n",
       "    </tr>\n",
       "    <tr>\n",
       "      <th>19870</th>\n",
       "      <td>0.633261</td>\n",
       "      <td>home</td>\n",
       "      <td>1610612737</td>\n",
       "      <td>4.0</td>\n",
       "      <td>18.950</td>\n",
       "      <td>0.391674</td>\n",
       "      <td>2023-02-01</td>\n",
       "      <td>0022200777</td>\n",
       "      <td>1610612756</td>\n",
       "      <td>100</td>\n",
       "      <td>-6.0</td>\n",
       "      <td>1630688</td>\n",
       "      <td>Ish Wainright</td>\n",
       "      <td>132</td>\n",
       "      <td>13.766733</td>\n",
       "      <td>0</td>\n",
       "      <td>48.0</td>\n",
       "      <td>-32</td>\n",
       "      <td></td>\n",
       "      <td>0.286807</td>\n",
       "    </tr>\n",
       "    <tr>\n",
       "      <th>19871</th>\n",
       "      <td>0.633261</td>\n",
       "      <td>home</td>\n",
       "      <td>1610612737</td>\n",
       "      <td>6.0</td>\n",
       "      <td>10.517</td>\n",
       "      <td>0.217374</td>\n",
       "      <td>2023-02-01</td>\n",
       "      <td>0022200777</td>\n",
       "      <td>1610612756</td>\n",
       "      <td>100</td>\n",
       "      <td>6.0</td>\n",
       "      <td>1629111</td>\n",
       "      <td>Jock Landale</td>\n",
       "      <td>132</td>\n",
       "      <td>12.506733</td>\n",
       "      <td>0</td>\n",
       "      <td>48.0</td>\n",
       "      <td>-32</td>\n",
       "      <td></td>\n",
       "      <td>0.260557</td>\n",
       "    </tr>\n",
       "  </tbody>\n",
       "</table>\n",
       "</div>"
      ],
      "text/plain": [
       "       won_prediction location  team_id_opponent  points  minutes  \\\n",
       "19867        0.633261     home        1610612737     6.0   21.483   \n",
       "19868        0.633261     home        1610612737     2.0   10.000   \n",
       "19869        0.633261     home        1610612737     2.0   15.367   \n",
       "19870        0.633261     home        1610612737     4.0   18.950   \n",
       "19871        0.633261     home        1610612737     6.0   10.517   \n",
       "\n",
       "       participation_weight  start_date     game_id     team_id  score  \\\n",
       "19867              0.444028  2023-02-01  0022200777  1610612756    100   \n",
       "19868              0.206688  2023-02-01  0022200777  1610612756    100   \n",
       "19869              0.317618  2023-02-01  0022200777  1610612756    100   \n",
       "19870              0.391674  2023-02-01  0022200777  1610612756    100   \n",
       "19871              0.217374  2023-02-01  0022200777  1610612756    100   \n",
       "\n",
       "       plus_minus  player_id      player_name  score_opponent  \\\n",
       "19867        -6.0    1630240        Saben Lee             132   \n",
       "19868        -9.0     202687  Bismack Biyombo             132   \n",
       "19869       -10.0    1629006      Josh Okogie             132   \n",
       "19870        -6.0    1630688    Ish Wainright             132   \n",
       "19871         6.0    1629111     Jock Landale             132   \n",
       "\n",
       "       rolling_mean_minutes15  won  game_minutes  score_difference  \\\n",
       "19867               12.187800    0          48.0               -32   \n",
       "19868               12.548933    0          48.0               -32   \n",
       "19869               14.513333    0          48.0               -32   \n",
       "19870               13.766733    0          48.0               -32   \n",
       "19871               12.506733    0          48.0               -32   \n",
       "\n",
       "      start_position  projected_participation_weight  \n",
       "19867                                       0.253913  \n",
       "19868                                       0.261436  \n",
       "19869                                       0.302361  \n",
       "19870                                       0.286807  \n",
       "19871                                       0.260557  "
      ]
     },
     "execution_count": 18,
     "metadata": {},
     "output_type": "execute_result"
    }
   ],
   "source": [
    "from spforge.transformers import   RollingMeanTransformer\n",
    "\n",
    "rolling_mean_transformer = RollingMeanTransformer(\n",
    "    window=15,\n",
    "    features=['minutes'],\n",
    "    granularity=['player_id'], \n",
    "    match_id_update_column='game_id'\n",
    ")\n",
    "df = rolling_mean_transformer.transform_historical(df, column_names=column_names)\n",
    "df['projected_participation_weight'] = df[rolling_mean_transformer.features_out[0]] / 48\n",
    "df['projected_participation_weight'] = df['projected_participation_weight'].fillna(df['projected_participation_weight'].mean())\n",
    "df.tail()"
   ]
  },
  {
   "cell_type": "markdown",
   "id": "d7c1eebe-e506-4035-a17d-c24915555bc0",
   "metadata": {},
   "source": [
    "The actual minutes played them selves still contain value as a players rating should update faster the more he plays during a match. Whereas if he only played 10 seconds, his rating should barely change.\n",
    "\n",
    "We don't need to worry about managing this logic ourself. It's all taken care of by simply adding  'projected_participation_weight' to ColumnNames\n",
    "\n"
   ]
  },
  {
   "cell_type": "code",
   "execution_count": 25,
   "id": "73d7ba80-4196-4a3e-81c9-eac90ff0963c",
   "metadata": {},
   "outputs": [
    {
     "data": {
      "text/plain": [
       "0.6556949645247271"
      ]
     },
     "execution_count": 25,
     "metadata": {},
     "output_type": "execute_result"
    }
   ],
   "source": [
    "column_names_projected_participation_weight = ColumnNames(\n",
    "    team_id=\"team_id\",\n",
    "    match_id=\"game_id\",\n",
    "    start_date=\"start_date\",\n",
    "    player_id=\"player_id\",\n",
    "    participation_weight='participation_weight',\n",
    "    projected_participation_weight='projected_participation_weight'\n",
    ")\n",
    "\n",
    "\n",
    "rating_generator_plus_minus_projected_participation_weight = PlayerRatingGenerator(\n",
    "    performance_column=\"plus_minus\",\n",
    "    non_predictor_known_features_out=[RatingKnownFeatures.PLAYER_RATING, RatingKnownFeatures.TEAM_RATING_PROJECTED,\n",
    "                  RatingKnownFeatures.OPPONENT_RATING_PROJECTED],\n",
    "    auto_scale_performance=True,\n",
    "    column_names=column_names_participation_weight,\n",
    "    suffix='_plus_minus_pw'\n",
    ")\n",
    "\n",
    "game_winner_pipeline = Pipeline(\n",
    "    lag_transformers=[lag_player_transformer, lag_team_transformer],\n",
    "    rating_generators=rating_generator_plus_minus_projected_participation_weight,\n",
    "    predictor=GameTeamPredictor(\n",
    "        game_id_colum=column_names_participation_weight.match_id,\n",
    "        team_id_column=column_names_participation_weight.team_id,   \n",
    "        predictor=SklearnPredictor(\n",
    "            features=['location'],\n",
    "            pred_column='game_winner_probability_projected_',\n",
    "            target=\"won\",\n",
    "            estimator=LogisticRegression(),\n",
    "        ),\n",
    "        impute_missing_values=True,\n",
    "        one_hot_encode_cat_features=True,  # one-hot-encodes any categorical features\n",
    "    ),\n",
    "    column_names=column_names_projected_participation_weight,\n",
    ")\n",
    "\n",
    "\n",
    "cross_validator = MatchKFoldCrossValidator(\n",
    "    match_id_column_name='game_id',\n",
    "    date_column_name='start_date',\n",
    "    predictor = game_winner_pipeline,\n",
    ")\n",
    "log_loss_scorer = SklearnScorer(pred_column=game_winner_pipeline.pred_column, scorer_function=log_loss, target='won')\n",
    "df = cross_validator.generate_validation_df(df, add_train_prediction=True)\n",
    "cross_validator.cross_validation_score(df, scorer=log_loss_scorer )"
   ]
  },
  {
   "cell_type": "markdown",
   "id": "03ac7c7e-386e-4a45-a3b9-5ccaeb2a7c7f",
   "metadata": {},
   "source": [
    "Okay, log-loss fell a bit - that was expected since we removed leakage.\n",
    "\n",
    "Now to the final part of this guide. Until now we only used a single column for the performance-value. We started by using the binary win/loss and then quickly identified that plus-minus on a player-level is much better. But it is actually possible to combine multiple columns together as demonstrated below."
   ]
  },
  {
   "cell_type": "code",
   "execution_count": 26,
   "id": "d5a73b84-b4a0-4b59-af28-e5e379df8954",
   "metadata": {},
   "outputs": [
    {
     "data": {
      "text/plain": [
       "0.6560221838454501"
      ]
     },
     "execution_count": 26,
     "metadata": {},
     "output_type": "execute_result"
    }
   ],
   "source": [
    "df['points_per_minute'] = df['points'] / df['minutes']\n",
    "\n",
    "rating_generator_weights = PlayerRatingGenerator(\n",
    "    performance_column=\"plus_minus\",\n",
    "    non_predictor_known_features_out=[RatingKnownFeatures.PLAYER_RATING, RatingKnownFeatures.TEAM_RATING_PROJECTED,\n",
    "                  RatingKnownFeatures.OPPONENT_RATING_PROJECTED],\n",
    "    auto_scale_performance=True,\n",
    "    column_names=column_names_projected_participation_weight,\n",
    "    suffix='_plus_minus_pw',\n",
    "    performance_weights = [\n",
    "        {\n",
    "            \"name\": 'points_per_minute',\n",
    "            'weight':0.15\n",
    "        },\n",
    "         {\n",
    "            \"name\": 'plus_minus',\n",
    "            'weight':0.75\n",
    "        },\n",
    "             {\n",
    "            \"name\": 'won',\n",
    "            'weight':0.1\n",
    "        }\n",
    "    ]\n",
    ")\n",
    "\n",
    "game_winner_pipeline = Pipeline(\n",
    "    lag_transformers=[lag_player_transformer, lag_team_transformer],\n",
    "    rating_generators=rating_generator_weights,\n",
    "    predictor=GameTeamPredictor(\n",
    "        game_id_colum=column_names_participation_weight.match_id,\n",
    "        team_id_column=column_names_participation_weight.team_id,   \n",
    "        predictor=SklearnPredictor(\n",
    "            features=['location'],\n",
    "            pred_column='game_winner_probability_projected_',\n",
    "            target=\"won\",\n",
    "            estimator=LogisticRegression(),\n",
    "        ),\n",
    "        impute_missing_values=True,\n",
    "        one_hot_encode_cat_features=True,  # one-hot-encodes any categorical features\n",
    "    ),\n",
    "    column_names=column_names_projected_participation_weight,\n",
    ")\n",
    "\n",
    "cross_validator = MatchKFoldCrossValidator(\n",
    "    match_id_column_name='game_id',\n",
    "    date_column_name='start_date',\n",
    "    predictor = game_winner_pipeline,\n",
    ")\n",
    "log_loss_scorer = SklearnScorer(pred_column=game_winner_pipeline.pred_column, scorer_function=log_loss, target='won')\n",
    "df = cross_validator.generate_validation_df(df, add_train_prediction=True)\n",
    "cross_validator.cross_validation_score(df, scorer=log_loss_scorer )"
   ]
  },
  {
   "cell_type": "markdown",
   "id": "954b6d0a-c1c0-4a7b-9042-2ac7d8adfece",
   "metadata": {},
   "source": [
    "This change reduced logloss. But if we were using a real-dataset (and not this simplified subsampled data), we would have access to many more data-points that would be worth exploring."
   ]
  },
  {
   "cell_type": "code",
   "execution_count": null,
   "id": "8d2b7fc0-61dd-463b-97e1-68099d8c5395",
   "metadata": {},
   "outputs": [],
   "source": []
  }
 ],
 "metadata": {
  "kernelspec": {
   "display_name": "Python (spforge)",
   "language": "python",
   "name": "spforge-env"
  },
  "language_info": {
   "codemirror_mode": {
    "name": "ipython",
    "version": 3
   },
   "file_extension": ".py",
   "mimetype": "text/x-python",
   "name": "python",
   "nbconvert_exporter": "python",
   "pygments_lexer": "ipython3",
   "version": "3.12.0"
  }
 },
 "nbformat": 4,
 "nbformat_minor": 5
}
